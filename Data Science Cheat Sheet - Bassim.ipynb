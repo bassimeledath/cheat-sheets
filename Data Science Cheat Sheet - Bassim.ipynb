{
 "cells": [
  {
   "cell_type": "markdown",
   "metadata": {},
   "source": [
    "# PREPROCESSING"
   ]
  },
  {
   "cell_type": "code",
   "execution_count": null,
   "metadata": {},
   "outputs": [],
   "source": [
    "# Dependencies\n",
    "\n",
    "from sklearn import preprocessing\n",
    "import numpy as np\n",
    "import pandas as pd\n",
    "\n",
    "data = np.array([[2.2, 5.9, -1.8], [5.4, -3.2, -5.1], [-1.9, 4.2, 3.2]])"
   ]
  },
  {
   "cell_type": "markdown",
   "metadata": {},
   "source": [
    "# BINARIZATION\n",
    "\n",
    "when you want to convert all values to 0 or 1, based on a certain threshold"
   ]
  },
  {
   "cell_type": "code",
   "execution_count": 4,
   "metadata": {},
   "outputs": [
    {
     "name": "stdout",
     "output_type": "stream",
     "text": [
      "Binarized data:\n",
      "\n",
      " [[1. 1. 0.]\n",
      " [1. 0. 0.]\n",
      " [0. 1. 1.]]\n"
     ]
    }
   ],
   "source": [
    "bindata = preprocessing.Binarizer(threshold=1.5).transform(data)\n",
    "print('Binarized data:\\n\\n', bindata)"
   ]
  },
  {
   "cell_type": "markdown",
   "metadata": {},
   "source": [
    "# MEAN REMOVAL\n",
    "Scaling to make mean and std.deviation of one column similar to that of other columns to support kernel methods like SVM."
   ]
  },
  {
   "cell_type": "code",
   "execution_count": 5,
   "metadata": {},
   "outputs": [
    {
     "name": "stdout",
     "output_type": "stream",
     "text": [
      "Mean (after)=  [0.00000000e+00 0.00000000e+00 7.40148683e-17]\n",
      "Standard Deviation (after)=  [1. 1. 1.]\n"
     ]
    }
   ],
   "source": [
    "scaled_data = preprocessing.scale(data)\n",
    "print('Mean (after)= ', scaled_data.mean(axis=0))\n",
    "print('Standard Deviation (after)= ', scaled_data.std(axis=0))"
   ]
  },
  {
   "cell_type": "markdown",
   "metadata": {},
   "source": [
    "# SCALING\n",
    "\n",
    "StandardScaler - => features with a mean=0 and variance=1\n",
    "MinMaxScaler - => features in a 0 to 1 range\n",
    "Normalizer - => feature vector to a Euclidean length=1"
   ]
  },
  {
   "cell_type": "code",
   "execution_count": null,
   "metadata": {},
   "outputs": [],
   "source": [
    "minmax_scaler = preprocessing.MinMaxScaler(feature_range=(0,1))\n",
    "data_minmax = minmax_scaler.fit_transform(data)\n",
    "print('MinMaxScaler applied on the data:\\n', data_minmax)"
   ]
  },
  {
   "cell_type": "markdown",
   "metadata": {},
   "source": [
    "# NORMALIZATION\n",
    "\n",
    "bringing the values of each feature vector on a common scale\n",
    "\n",
    "L1 - Least Absolute Deviations - sum of absolute values (on each row) = 1; it is insensitive to outliers (more robhust)\n",
    "L2 - Least Squares - sum of squares (on each row) = 1; takes outliers in consideration during training"
   ]
  },
  {
   "cell_type": "code",
   "execution_count": null,
   "metadata": {},
   "outputs": [],
   "source": [
    "data_l1 = preprocessing.normalize(data, norm='l1')\n",
    "data_l2 = preprocessing.normalize(data, norm='l2')"
   ]
  },
  {
   "cell_type": "markdown",
   "metadata": {},
   "source": [
    "# ONE HOT ENCODER"
   ]
  },
  {
   "cell_type": "code",
   "execution_count": null,
   "metadata": {},
   "outputs": [],
   "source": [
    "data_dummies = pd.get_dummies(data)\n"
   ]
  },
  {
   "cell_type": "markdown",
   "metadata": {},
   "source": [
    "# INITIAL PREVIEW"
   ]
  },
  {
   "cell_type": "code",
   "execution_count": null,
   "metadata": {},
   "outputs": [],
   "source": [
    "print(\"This dataset has -  rows:\",data.shape[0],\" columns:\", data.shape[1]) #rows and columns\n",
    "data.head() #first few lines\n",
    "data.describe() #common statistics\n"
   ]
  },
  {
   "cell_type": "markdown",
   "metadata": {},
   "source": [
    "# TRAIN_TEST_SPLIT"
   ]
  },
  {
   "cell_type": "code",
   "execution_count": null,
   "metadata": {},
   "outputs": [],
   "source": [
    "from sklearn.model_selection import train_test_split\n",
    "X_train,X_test,y_train,y_test = train_test_split(X,y,random_state=0)"
   ]
  },
  {
   "cell_type": "markdown",
   "metadata": {},
   "source": [
    "# CLASSIFICATION ALGORITHMS"
   ]
  },
  {
   "cell_type": "code",
   "execution_count": null,
   "metadata": {},
   "outputs": [],
   "source": [
    "# KNN \n",
    "\n",
    "# Considering more and more neighbors leads to a smoother decision boundary. \n",
    "# A smoother boundary corresponds to a simpler model. \n",
    "\n",
    "from sklearn.neighbors import KNeighborsClassifier\n",
    "clf = KNeighborsClassifier(n_neighbors=3)\n",
    "clf.fit(X_train, y_train)\n",
    "print(\"Test set accuracy: {:.2f}\".format(clf.score(X_test, y_test)))\n",
    "\n",
    "# loop that goes through all possibilities of n_neighbours\n",
    "\n",
    "training_accuracy = []\n",
    "test_accuracy = []\n",
    "# try n_neighbors from 1 to 10\n",
    "neighbors_settings = range(1, 11)\n",
    "\n",
    "for n_neighbors in neighbors_settings:\n",
    "    # build the model\n",
    "    clf = KNeighborsClassifier(n_neighbors)\n",
    "    clf.fit(X_train, y_train)\n",
    "    # record training set accuracy\n",
    "    training_accuracy.append(clf.score(X_train, y_train))\n",
    "    # record generalization accuracy\n",
    "    test_accuracy.append(clf.score(X_test, y_test))\n",
    "\n",
    "plt.plot(neighbors_settings, training_accuracy, label=\"training accuracy\")\n",
    "plt.plot(neighbors_settings, test_accuracy, label=\"test accuracy\")\n",
    "plt.ylabel(\"Accuracy\")\n",
    "plt.xlabel(\"n_neighbors\")\n",
    "plt.legend()\n",
    "\n",
    "#for KNN regressor\n",
    "from sklearn.neighbors import KNeighborsRegressor\n",
    "X_train, X_test, y_train, y_test = train_test_split(X, y, random_state=0)\n",
    "reg = KNeighborsRegressor(n_neighbors=3)\n",
    "reg.fit(X_train, y_train)\n",
    "print(\"Test set predictions:\\n{}\".format(reg.predict(X_test)))\n",
    "print(\"Test set R^2: {:.2f}\".format(reg.score(X_test, y_test)))\n"
   ]
  },
  {
   "cell_type": "code",
   "execution_count": null,
   "metadata": {},
   "outputs": [],
   "source": [
    "# LINEAR MODELS\n",
    "\n",
    "# Linear regression (prone to overfitting in higher dimensions)\n",
    "from sklearn.linear_model import LinearRegression\n",
    "X_train, X_test, y_train, y_test = train_test_split(X, y, random_state=42)\n",
    "lr = LinearRegression().fit(X_train, y_train)\n",
    "print(\"lr.coef_: {}\".format(lr.coef_))\n",
    "print(\"lr.intercept_: {}\".format(lr.intercept_))\n",
    "print(\"Training set score: {:.2f}\".format(lr.score(X_train, y_train)))\n",
    "print(\"Test set score: {:.2f}\".format(lr.score(X_test, y_test)))\n",
    "\n",
    "#Ridge regression\n",
    "#tweak alpha level to increase or decrease restriction level (0.1: minimal restriction)\n",
    "#Reduce alpha when you think there is underfitting.\n",
    "\n",
    "from sklearn.linear_model import Ridge\n",
    "ridge = Ridge(alpha=1).fit(X_train, y_train)\n",
    "print(\"Training set score: {:.2f}\".format(ridge.score(X_train, y_train)))\n",
    "print(\"Test set score: {:.2f}\".format(ridge.score(X_test, y_test)))\n",
    "\n",
    "#with enough training data, regularization becomes less important, \n",
    "#and given enough data, ridge and linear regression will have the same performance\n",
    "\n",
    "#Lasso: some coefficients are made 0. Automatic feature selection: easier to interpret results.\n",
    "# we increase the default setting of \"max_iter\",\n",
    "# otherwise the model would warn us that we should increase max_iter.\n",
    "lasso001 = Lasso(alpha=0.01, max_iter=100000).fit(X_train, y_train)\n",
    "print(\"Training set score: {:.2f}\".format(lasso001.score(X_train, y_train)))\n",
    "print(\"Test set score: {:.2f}\".format(lasso001.score(X_test, y_test)))\n",
    "print(\"Number of features used: {}\".format(np.sum(lasso001.coef_ != 0)))\n",
    "\n",
    "#plotting the different coefficients of lasso \n",
    "plt.plot(lasso.coef_, 's', label=\"Lasso alpha=1\")\n",
    "plt.plot(lasso001.coef_, '^', label=\"Lasso alpha=0.01\")\n",
    "plt.plot(lasso00001.coef_, 'v', label=\"Lasso alpha=0.0001\")\n",
    "\n",
    "plt.plot(ridge01.coef_, 'o', label=\"Ridge alpha=0.1\")\n",
    "plt.legend(ncol=2, loc=(0, 1.05))\n",
    "plt.ylim(-25, 25)\n",
    "plt.xlabel(\"Coefficient index\")\n",
    "plt.ylabel(\"Coefficient magnitude\")\n",
    "\n",
    "# For LogisticRegression and LinearSVC the trade-off parameter that determines the strength of the regularization\n",
    "# is called C,and higher values of C correspond to less regularization. \n",
    "# high c - high chance of overfitting\n",
    "# a very small C corresponds to a lot of regularization\n",
    "\n",
    "# Logistic regression\n",
    "from sklearn.linear_model import LogisticRegression\n",
    "logreg = LogisticRegression(C=1).fit(X_train, y_train)\n",
    "print(\"Training set score: {:.3f}\".format(logreg.score(X_train, y_train)))\n",
    "print(\"Test set score: {:.3f}\".format(logreg.score(X_test, y_test)))\n",
    "\n",
    "#seeing accuracy at various levels of C\n",
    "for C, marker in zip([0.001, 1, 100]:\n",
    "    lr_l1 = LogisticRegression(C=C, penalty=\"l1\").fit(X_train, y_train)\n",
    "    print(\"Training accuracy of l1 logreg with C={:.3f}: {:.2f}\".format(\n",
    "          C, lr_l1.score(X_train, y_train)))\n",
    "    print(\"Test accuracy of l1 logreg with C={:.3f}: {:.2f}\".format(\n",
    "          C, lr_l1.score(X_test, y_test)))\n",
    "\n",
    "\n",
    "\n",
    "from sklearn.svm import LinearSVC()\n",
    "LinearSVClinear_svm = LinearSVC().fit(X, y)\n",
    "                     \n",
    "# final notes\n",
    "# Large values for alpha or small values for C mean simple models\n",
    "# If you assume that only a few of your features are actually important, you should use L1. \n",
    "# Else, default to L2\n",
    "# Linear models often perform well when the number of features is large compared to the number of samples.\n",
    "# fitting and predicting in one line example - y_pred = LogisticRegression().fit(X_train, y_train).predict(X_test)"
   ]
  },
  {
   "cell_type": "code",
   "execution_count": 7,
   "metadata": {},
   "outputs": [],
   "source": [
    "# CLASSIFICATION\n",
    "\n",
    "# Decision tree - algorithms are completely invariant to scaling of the data\n",
    "from sklearn.tree import DecisionTreeClassifier\n",
    "tree = DecisionTreeClassifier(random_state=0)\n",
    "tree.fit(X_train, y_train)\n",
    "print(\"Accuracy on training set: {:.3f}\".format(tree.score(X_train, y_train)))\n",
    "print(\"Accuracy on test set: {:.3f}\".format(tree.score(X_test, y_test)))\n",
    "\n",
    "# to restrict tree depth to prevent overfitting\n",
    "tree = DecisionTreeClassifier(max_depth=4, random_state=0)\n",
    "tree.fit(X_train, y_train)\n",
    "\n",
    "plot_feature_importances_cancer(tree)\n",
    "\n",
    "# Random forests\n",
    "# If you want to have reproducible results, it is important to fix the random_state.\n",
    "# The important parameters to adjust are n_estimators, max_features, and possibly pre-pruning options like max_depth.\n",
    "from sklearn.ensemble import RandomForestClassifier\n",
    "forest = RandomForestClassifier(n_estimators=5, random_state=2)\n",
    "forest.fit(X_train, y_train)\n",
    "\n",
    "# Gradient boosting\n",
    "from sklearn.ensemble import GradientBoostingClassifier\n",
    "gbrt = GradientBoostingClassifier(random_state=0)\n",
    "or GradientBoostingClassifier(random_state=0, max_depth=1)\n",
    "or GradientBoostingClassifier(random_state=0, learning_rate=0.01)\n",
    "gbrt.fit(X_train, y_train)\n",
    "print(\"Accuracy on training set: {:.3f}\".format(gbrt.score(X_train, y_train)))\n",
    "print(\"Accuracy on test set: {:.3f}\".format(gbrt.score(X_test, y_test)))\n"
   ]
  },
  {
   "cell_type": "code",
   "execution_count": null,
   "metadata": {},
   "outputs": [],
   "source": []
  },
  {
   "cell_type": "code",
   "execution_count": 2,
   "metadata": {},
   "outputs": [
    {
     "data": {
      "text/plain": [
       "<matplotlib.legend.Legend at 0x1a16fb9f60>"
      ]
     },
     "execution_count": 2,
     "metadata": {},
     "output_type": "execute_result"
    },
    {
     "data": {
      "image/png": "[encoded data removed]",
      "text/plain": [
       "<Figure size 432x288 with 1 Axes>"
      ]
     },
     "metadata": {},
     "output_type": "display_data"
    }
   ],
   "source": [
    "% matplotlib inline\n",
    "import matplotlib.pyplot as plt\n",
    "import numpy as np \n",
    "\n",
    "# set the seed for the random number generator\n",
    "# so we all work with the same data\n",
    "np.random.seed(42)\n",
    "\n",
    "def cubic_generator(x):\n",
    "    \"\"\"\n",
    "    f(x) = 2x**3 + 3x**2 - 8x + 6\n",
    "    \n",
    "    :param x: x-coordinate \n",
    "    :returns: x mapped through a cubic function\n",
    "    \"\"\"\n",
    "    return 2*x**3 + 3*x**2 - 8*x + 6\n",
    "\n",
    "# vectorize the func so it accepts array inputs\n",
    "cubic_generator = np.vectorize(cubic_generator)\n",
    "\n",
    "# generate xcoords, the true target and noisy observations on the target\n",
    "xcoords = np.linspace(-4, 4, 50)\n",
    "ycoords = cubic_generator(xcoords)\n",
    "noise = np.random.normal(scale=15, size=50)\n",
    "\n",
    "# plotting\n",
    "plt.plot(xcoords, ycoords, c='black')\n",
    "plt.scatter(xcoords, ycoords + noise)\n",
    "plt.title('Simulated Data')\n",
    "plt.xlabel('x')\n",
    "plt.ylabel('y')\n",
    "plt.legend(['True signal', 'Noisy observations']);\n",
    "\n",
    "\n",
    "# we'll use 1000 observations in total# we'll u \n",
    "x = np.linspace(-4, 4, 1000)\n",
    "random_noise = np.random.normal(scale=15, size=1000)\n",
    "y = cubic_generator(x) + random_noise\n",
    "\n",
    "# choose the set of train indices, and derive the test indices\n",
    "train_indices = np.random.choice(range(1000), replace=False, size = int(0.8*1000))\n",
    "test_indices = [idx for idx in range(1000) if idx not in train_indices]\n",
    "\n",
    "# split the data\n",
    "# the reshape operation is necessary because the machine learning models\n",
    "# in general expect 2D tensors\n",
    "x_train = x[train_indices].reshape(-1, 1)\n",
    "y_train = y[train_indices]\n",
    "x_test = x[test_indices].reshape(-1, 1)\n",
    "y_test = y[train_indices]\n",
    "\n",
    "from sklearn.linear_model import LinearRegression\n",
    "\n",
    "# create a linear regression object\n",
    "linear_reg = LinearRegression()\n",
    "\n",
    "# fit the object on training data\n",
    "linear_reg = linear_reg.fit(X=x_train, y=y_train)\n",
    "\n",
    "# training set predictions\n",
    "train_preds = linear_reg.predict(x_train)\n",
    "\n",
    "# test set predictions\n",
    "test_preds = linear_reg.predict(x_test)\n",
    "\n",
    "linear_ycoords = linear_reg.coef_ * xcoords + linear_reg.intercept_\n",
    "\n",
    "plt.plot(xcoords, ycoords, c='black')\n",
    "plt.plot(xcoords, linear_ycoords, c='green')\n",
    "plt.scatter(xcoords, ycoords + noise)\n",
    "plt.title('Simulated Data with Linear Approximator')\n",
    "plt.xlabel('x')\n",
    "plt.ylabel('y')\n",
    "plt.legend(['True signal', 'Linear approximator', 'Noisy observations'])\n",
    "\n"
   ]
  },
  {
   "cell_type": "code",
   "execution_count": 5,
   "metadata": {},
   "outputs": [
    {
     "data": {
      "image/png": "[encoded data removed]",
      "text/plain": [
       "<Figure size 432x288 with 1 Axes>"
      ]
     },
     "metadata": {},
     "output_type": "display_data"
    }
   ],
   "source": [
    "import numpy as np\n",
    "import  matplotlib.pyplot  as plt\n",
    "from sklearn import svm\n",
    "from sklearn.datasets import make_blobs\n",
    "%matplotlib inline\n",
    "\n",
    "# we create 40 separable points\n",
    "X, y = make_blobs(n_samples=40, centers=2, random_state=6)\n",
    "\n",
    "# choose a large penalty for the error term to simulate a maximum margin classifer\n",
    "clf = svm.SVC(kernel='linear', C=1E6)\n",
    "clf.fit(X, y)\n",
    "\n",
    "plt.scatter(X[:, 0], X[:, 1], c=y, s=30, cmap=plt.cm.Paired)\n",
    "\n",
    "# plot the decision function\n",
    "ax = plt.gca()\n",
    "xlim = ax.get_xlim()\n",
    "ylim = ax.get_ylim()\n",
    "\n",
    "# create grid to evaluate model\n",
    "xx = np.linspace(xlim[0], xlim[1], 30)\n",
    "yy = np.linspace(ylim[0], ylim[1], 30)\n",
    "YY, XX = np.meshgrid(yy, xx)\n",
    "xy = np.vstack([XX.ravel(), YY.ravel()]).T\n",
    "Z = clf.decision_function(xy).reshape(XX.shape)\n",
    "\n",
    "# plot decision boundary and margins\n",
    "ax.contour(XX, YY, Z, colors='k', levels=[-1, 0, 1], alpha=0.5,\n",
    "           linestyles=['--', '-', '--'])\n",
    "# plot support vectors\n",
    "ax.scatter(clf.support_vectors_[:, 0], clf.support_vectors_[:, 1], s=120,\n",
    "           linewidth=1, marker='v', c=y[clf.support_], cmap=plt.cm.Paired)\n",
    "plt.show()"
   ]
  },
  {
   "cell_type": "code",
   "execution_count": null,
   "metadata": {},
   "outputs": [],
   "source": []
  }
 ],
 "metadata": {
  "kernelspec": {
   "display_name": "Python 3",
   "language": "python",
   "name": "python3"
  },
  "language_info": {
   "codemirror_mode": {
    "name": "ipython",
    "version": 3
   },
   "file_extension": ".py",
   "mimetype": "text/x-python",
   "name": "python",
   "nbconvert_exporter": "python",
   "pygments_lexer": "ipython3",
   "version": "3.6.5"
  }
 },
 "nbformat": 4,
 "nbformat_minor": 2
}
